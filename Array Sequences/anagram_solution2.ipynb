{
 "cells": [
  {
   "cell_type": "code",
   "execution_count": 3,
   "metadata": {},
   "outputs": [],
   "source": [
    "def anagram2(s1,s2):\n",
    "    s1=s1.replace(' ','').lower()\n",
    "    s2=s2.replace(' ','').lower()\n",
    "    \n",
    "    if len(s1)!=len(s2):\n",
    "        return False\n",
    "    \n",
    "    count={}\n",
    "    \n",
    "    for letter in s1:\n",
    "        if letter in count:\n",
    "            count[letter]=count[letter]+1\n",
    "        else:\n",
    "            count[letter]=1\n",
    "    print(count)    \n",
    "    \n",
    "    for letter in s2:\n",
    "        if letter in count:\n",
    "            count[letter]=count[letter]-1\n",
    "        else:\n",
    "            count[letter]=1\n",
    "    print(count) \n",
    "    \n",
    "    return True"
   ]
  },
  {
   "cell_type": "code",
   "execution_count": null,
   "metadata": {},
   "outputs": [],
   "source": []
  },
  {
   "cell_type": "code",
   "execution_count": 4,
   "metadata": {},
   "outputs": [
    {
     "name": "stdout",
     "output_type": "stream",
     "text": [
      "{'d': 1, 'o': 1, 'g': 1}\n",
      "{'d': 0, 'o': 0, 'g': 0}\n"
     ]
    },
    {
     "data": {
      "text/plain": [
       "True"
      ]
     },
     "execution_count": 4,
     "metadata": {},
     "output_type": "execute_result"
    }
   ],
   "source": [
    "anagram2('dog','god')"
   ]
  },
  {
   "cell_type": "code",
   "execution_count": null,
   "metadata": {},
   "outputs": [],
   "source": []
  },
  {
   "cell_type": "code",
   "execution_count": null,
   "metadata": {},
   "outputs": [],
   "source": []
  }
 ],
 "metadata": {
  "kernelspec": {
   "display_name": "Python 3",
   "language": "python",
   "name": "python3"
  },
  "language_info": {
   "codemirror_mode": {
    "name": "ipython",
    "version": 3
   },
   "file_extension": ".py",
   "mimetype": "text/x-python",
   "name": "python",
   "nbconvert_exporter": "python",
   "pygments_lexer": "ipython3",
   "version": "3.8.3"
  }
 },
 "nbformat": 4,
 "nbformat_minor": 4
}
